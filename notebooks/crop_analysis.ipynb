{
 "cells": [
  {
   "cell_type": "code",
   "execution_count": 1,
   "id": "850e0b2e",
   "metadata": {},
   "outputs": [
    {
     "name": "stdout",
     "output_type": "stream",
     "text": [
      "Please restart Jupyter kernel after installation if you encounter any errors when importing geemap.\n"
     ]
    },
    {
     "ename": "AttributeError",
     "evalue": "module 'ee' has no attribute 'FeatureCollection'",
     "output_type": "error",
     "traceback": [
      "\u001b[31m---------------------------------------------------------------------------\u001b[39m",
      "\u001b[31mAttributeError\u001b[39m                            Traceback (most recent call last)",
      "\u001b[36mCell\u001b[39m\u001b[36m \u001b[39m\u001b[32mIn[1]\u001b[39m\u001b[32m, line 3\u001b[39m\n\u001b[32m      1\u001b[39m \u001b[38;5;28;01mfrom\u001b[39;00m\u001b[38;5;250m \u001b[39m\u001b[34;01mio\u001b[39;00m\u001b[38;5;250m \u001b[39m\u001b[38;5;28;01mimport\u001b[39;00m StringIO\n\u001b[32m      2\u001b[39m \u001b[38;5;28;01mimport\u001b[39;00m\u001b[38;5;250m \u001b[39m\u001b[34;01mee\u001b[39;00m\n\u001b[32m----> \u001b[39m\u001b[32m3\u001b[39m \u001b[38;5;28;01mimport\u001b[39;00m\u001b[38;5;250m \u001b[39m\u001b[34;01mgeemap\u001b[39;00m\n\u001b[32m      5\u001b[39m ee.Initialize()\n\u001b[32m      7\u001b[39m \u001b[38;5;66;03m# Define time range for NDVI\u001b[39;00m\n",
      "\u001b[36mFile \u001b[39m\u001b[32m~/Desktop/Personal/projects/SatSure-caseStudy/.venv/lib/python3.11/site-packages/geemap/__init__.py:55\u001b[39m\n\u001b[32m     51\u001b[39m         \u001b[38;5;28;01melse\u001b[39;00m:\n\u001b[32m     52\u001b[39m             \u001b[38;5;28mprint\u001b[39m(\n\u001b[32m     53\u001b[39m                 \u001b[33m\"\u001b[39m\u001b[33mPlease restart Jupyter kernel after installation if you encounter any errors when importing geemap.\u001b[39m\u001b[33m\"\u001b[39m\n\u001b[32m     54\u001b[39m             )\n\u001b[32m---> \u001b[39m\u001b[32m55\u001b[39m         \u001b[38;5;28;01mraise\u001b[39;00m e\n\u001b[32m     57\u001b[39m \u001b[38;5;28;01mif\u001b[39;00m _use_eerepr():\n\u001b[32m     58\u001b[39m     \u001b[38;5;28;01mimport\u001b[39;00m\u001b[38;5;250m \u001b[39m\u001b[34;01meerepr\u001b[39;00m\n",
      "\u001b[36mFile \u001b[39m\u001b[32m~/Desktop/Personal/projects/SatSure-caseStudy/.venv/lib/python3.11/site-packages/geemap/__init__.py:45\u001b[39m\n\u001b[32m     43\u001b[39m \u001b[38;5;28;01melse\u001b[39;00m:\n\u001b[32m     44\u001b[39m     \u001b[38;5;28;01mtry\u001b[39;00m:\n\u001b[32m---> \u001b[39m\u001b[32m45\u001b[39m         \u001b[38;5;28;01mfrom\u001b[39;00m\u001b[38;5;250m \u001b[39m\u001b[34;01m.\u001b[39;00m\u001b[34;01mgeemap\u001b[39;00m\u001b[38;5;250m \u001b[39m\u001b[38;5;28;01mimport\u001b[39;00m *\n\u001b[32m     46\u001b[39m     \u001b[38;5;28;01mexcept\u001b[39;00m \u001b[38;5;167;01mException\u001b[39;00m \u001b[38;5;28;01mas\u001b[39;00m e:\n\u001b[32m     47\u001b[39m         \u001b[38;5;28;01mif\u001b[39;00m in_colab_shell():\n",
      "\u001b[36mFile \u001b[39m\u001b[32m~/Desktop/Personal/projects/SatSure-caseStudy/.venv/lib/python3.11/site-packages/geemap/geemap.py:26\u001b[39m\n\u001b[32m     23\u001b[39m \u001b[38;5;28;01mfrom\u001b[39;00m\u001b[38;5;250m \u001b[39m\u001b[34;01mbqplot\u001b[39;00m\u001b[38;5;250m \u001b[39m\u001b[38;5;28;01mimport\u001b[39;00m pyplot \u001b[38;5;28;01mas\u001b[39;00m plt\n\u001b[32m     25\u001b[39m \u001b[38;5;28;01mfrom\u001b[39;00m\u001b[38;5;250m \u001b[39m\u001b[34;01mIPython\u001b[39;00m\u001b[34;01m.\u001b[39;00m\u001b[34;01mdisplay\u001b[39;00m\u001b[38;5;250m \u001b[39m\u001b[38;5;28;01mimport\u001b[39;00m display\n\u001b[32m---> \u001b[39m\u001b[32m26\u001b[39m \u001b[38;5;28;01mfrom\u001b[39;00m\u001b[38;5;250m \u001b[39m\u001b[34;01m.\u001b[39;00m\u001b[34;01mbasemaps\u001b[39;00m\u001b[38;5;250m \u001b[39m\u001b[38;5;28;01mimport\u001b[39;00m get_xyz_dict, xyz_to_leaflet\n\u001b[32m     27\u001b[39m \u001b[38;5;28;01mfrom\u001b[39;00m\u001b[38;5;250m \u001b[39m\u001b[34;01m.\u001b[39;00m\u001b[34;01mcommon\u001b[39;00m\u001b[38;5;250m \u001b[39m\u001b[38;5;28;01mimport\u001b[39;00m *\n\u001b[32m     28\u001b[39m \u001b[38;5;28;01mfrom\u001b[39;00m\u001b[38;5;250m \u001b[39m\u001b[34;01m.\u001b[39;00m\u001b[34;01mconversion\u001b[39;00m\u001b[38;5;250m \u001b[39m\u001b[38;5;28;01mimport\u001b[39;00m *\n",
      "\u001b[36mFile \u001b[39m\u001b[32m~/Desktop/Personal/projects/SatSure-caseStudy/.venv/lib/python3.11/site-packages/geemap/basemaps.py:29\u001b[39m\n\u001b[32m     26\u001b[39m \u001b[38;5;28;01mimport\u001b[39;00m\u001b[38;5;250m \u001b[39m\u001b[34;01mrequests\u001b[39;00m\n\u001b[32m     27\u001b[39m \u001b[38;5;28;01mimport\u001b[39;00m\u001b[38;5;250m \u001b[39m\u001b[34;01mxyzservices\u001b[39;00m\n\u001b[32m---> \u001b[39m\u001b[32m29\u001b[39m \u001b[38;5;28;01mfrom\u001b[39;00m\u001b[38;5;250m \u001b[39m\u001b[34;01m.\u001b[39;00m\u001b[34;01mcommon\u001b[39;00m\u001b[38;5;250m \u001b[39m\u001b[38;5;28;01mimport\u001b[39;00m check_package, get_google_maps_api_key, planet_tiles\n\u001b[32m     31\u001b[39m XYZ_TILES = {\n\u001b[32m     32\u001b[39m     \u001b[33m\"\u001b[39m\u001b[33mOpenStreetMap\u001b[39m\u001b[33m\"\u001b[39m: {\n\u001b[32m     33\u001b[39m         \u001b[33m\"\u001b[39m\u001b[33murl\u001b[39m\u001b[33m\"\u001b[39m: \u001b[33m\"\u001b[39m\u001b[33mhttps://\u001b[39m\u001b[38;5;132;01m{s}\u001b[39;00m\u001b[33m.tile.openstreetmap.org/\u001b[39m\u001b[38;5;132;01m{z}\u001b[39;00m\u001b[33m/\u001b[39m\u001b[38;5;132;01m{x}\u001b[39;00m\u001b[33m/\u001b[39m\u001b[38;5;132;01m{y}\u001b[39;00m\u001b[33m.png\u001b[39m\u001b[33m\"\u001b[39m,\n\u001b[32m   (...)\u001b[39m\u001b[32m     59\u001b[39m     },\n\u001b[32m     60\u001b[39m }\n\u001b[32m     63\u001b[39m \u001b[38;5;66;03m# Custom WMS tile services.\u001b[39;00m\n",
      "\u001b[36mFile \u001b[39m\u001b[32m~/Desktop/Personal/projects/SatSure-caseStudy/.venv/lib/python3.11/site-packages/geemap/common.py:29\u001b[39m\n\u001b[32m     26\u001b[39m \u001b[38;5;28;01mfrom\u001b[39;00m\u001b[38;5;250m \u001b[39m\u001b[34;01mipytree\u001b[39;00m\u001b[38;5;250m \u001b[39m\u001b[38;5;28;01mimport\u001b[39;00m Node, Tree\n\u001b[32m     27\u001b[39m \u001b[38;5;28;01mfrom\u001b[39;00m\u001b[38;5;250m \u001b[39m\u001b[34;01mtyping\u001b[39;00m\u001b[38;5;250m \u001b[39m\u001b[38;5;28;01mimport\u001b[39;00m Union, List, Dict, Optional, Any\n\u001b[32m---> \u001b[39m\u001b[32m29\u001b[39m \u001b[38;5;28;01mfrom\u001b[39;00m\u001b[38;5;250m \u001b[39m\u001b[34;01m.\u001b[39;00m\u001b[34;01mcoreutils\u001b[39;00m\u001b[38;5;250m \u001b[39m\u001b[38;5;28;01mimport\u001b[39;00m *\n\u001b[32m     31\u001b[39m \u001b[38;5;28;01mtry\u001b[39;00m:\n\u001b[32m     32\u001b[39m     \u001b[38;5;28;01mfrom\u001b[39;00m\u001b[38;5;250m \u001b[39m\u001b[34;01mIPython\u001b[39;00m\u001b[34;01m.\u001b[39;00m\u001b[34;01mdisplay\u001b[39;00m\u001b[38;5;250m \u001b[39m\u001b[38;5;28;01mimport\u001b[39;00m display, IFrame, Javascript\n",
      "\u001b[36mFile \u001b[39m\u001b[32m~/Desktop/Personal/projects/SatSure-caseStudy/.venv/lib/python3.11/site-packages/geemap/coreutils.py:191\u001b[39m\n\u001b[32m    186\u001b[39m         node_list.append(new_tree_node(\u001b[33mf\u001b[39m\u001b[33m\"\u001b[39m\u001b[38;5;132;01m{\u001b[39;00minfo\u001b[38;5;132;01m}\u001b[39;00m\u001b[33m\"\u001b[39m, expanded=opened))\n\u001b[32m    187\u001b[39m     \u001b[38;5;28;01mreturn\u001b[39;00m node_list\n\u001b[32m    190\u001b[39m \u001b[38;5;28;01mdef\u001b[39;00m\u001b[38;5;250m \u001b[39m\u001b[34mbuild_computed_object_tree\u001b[39m(\n\u001b[32m--> \u001b[39m\u001b[32m191\u001b[39m     ee_object: Union[\u001b[43mee\u001b[49m\u001b[43m.\u001b[49m\u001b[43mFeatureCollection\u001b[49m, ee.Image, ee.Geometry, ee.Feature],\n\u001b[32m    192\u001b[39m     layer_name: \u001b[38;5;28mstr\u001b[39m = \u001b[33m\"\u001b[39m\u001b[33m\"\u001b[39m,\n\u001b[32m    193\u001b[39m     opened: \u001b[38;5;28mbool\u001b[39m = \u001b[38;5;28;01mFalse\u001b[39;00m,\n\u001b[32m    194\u001b[39m ) -> \u001b[38;5;28mdict\u001b[39m[\u001b[38;5;28mstr\u001b[39m, Any]:\n\u001b[32m    195\u001b[39m \u001b[38;5;250m    \u001b[39m\u001b[33;03m\"\"\"Return a tree structure representing an EE object.\u001b[39;00m\n\u001b[32m    196\u001b[39m \n\u001b[32m    197\u001b[39m \u001b[33;03m    The source code was adapted from https://github.com/google/earthengine-jupyter.\u001b[39;00m\n\u001b[32m   (...)\u001b[39m\u001b[32m    207\u001b[39m \u001b[33;03m        dict[str, Any]: The node representing the Earth Engine object information.\u001b[39;00m\n\u001b[32m    208\u001b[39m \u001b[33;03m    \"\"\"\u001b[39;00m\n\u001b[32m    210\u001b[39m     \u001b[38;5;66;03m# Convert EE object props to dicts. It's easier to traverse the nested structure.\u001b[39;00m\n",
      "\u001b[31mAttributeError\u001b[39m: module 'ee' has no attribute 'FeatureCollection'"
     ]
    }
   ],
   "source": [
    "from io import StringIO\n",
    "import ee\n",
    "import geemap\n",
    "\n",
    "ee.Initialize()\n",
    "\n",
    "# Define time range for NDVI\n",
    "kharif_start = '2022-06-01'\n",
    "kharif_end = '2022-10-31'\n",
    "\n",
    "# Load MODIS NDVI dataset\n",
    "ndvi = ee.ImageCollection('MODIS/006/MOD13Q1') \\\n",
    "    .filterDate(kharif_start, kharif_end) \\\n",
    "    .select('NDVI')\n",
    "\n",
    "# Calculate mean NDVI for Kharif season\n",
    "kharif_ndvi = ndvi.mean()\n",
    "\n",
    "# Export to Google Drive or analyze directly\n",
    "geemap.ee_export_image(kharif_ndvi, filename='kharif_ndvi.tif', scale=500)\n"
   ]
  },
  {
   "cell_type": "code",
   "execution_count": null,
   "id": "eb24bff6",
   "metadata": {},
   "outputs": [],
   "source": []
  }
 ],
 "metadata": {
  "kernelspec": {
   "display_name": "SatSure-caseStudy",
   "language": "python",
   "name": "python3"
  },
  "language_info": {
   "codemirror_mode": {
    "name": "ipython",
    "version": 3
   },
   "file_extension": ".py",
   "mimetype": "text/x-python",
   "name": "python",
   "nbconvert_exporter": "python",
   "pygments_lexer": "ipython3",
   "version": "3.11.0"
  }
 },
 "nbformat": 4,
 "nbformat_minor": 5
}
