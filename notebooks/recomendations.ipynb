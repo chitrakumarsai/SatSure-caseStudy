{
 "cells": [
  {
   "cell_type": "code",
   "execution_count": 1,
   "id": "c088d693",
   "metadata": {},
   "outputs": [],
   "source": [
    "import pandas as pd\n",
    "import matplotlib.pyplot as plt\n",
    "\n",
    "# Load datasets\n",
    "# Load datasets (use your own paths)\n",
    "mh_precip = pd.read_csv(\"../data/raw/MH_precipitation.csv\")\n",
    "mh_temp = pd.read_csv(\"../data/raw/MH_temperature.csv\")\n",
    "mp_precip = pd.read_csv(\"../data/raw/MP_precipitation.csv\")\n",
    "mp_temp = pd.read_csv(\"../data/raw/MP_temperature.csv\")\n",
    "\n",
    "# Convert date columns to datetime\n",
    "for df in [mh_precip, mh_temp, mp_precip, mp_temp]:\n",
    "    df['date'] = pd.to_datetime(df['date'])"
   ]
  },
  {
   "cell_type": "code",
   "execution_count": 4,
   "id": "a382cb59",
   "metadata": {},
   "outputs": [
    {
     "name": "stdout",
     "output_type": "stream",
     "text": [
      "Maharashtra Indicators: {'Rainfall Variability Index': 1.152, 'Drought Frequency (Years)': 9, 'Extreme Rainfall Events': 5277, 'Heat Stress Days': 95034}\n",
      "Madhya Pradesh Indicators: {'Rainfall Variability Index': 0.355, 'Drought Frequency (Years)': 3, 'Extreme Rainfall Events': 8632, 'Heat Stress Days': 141687}\n",
      "MH Recommendations: ['Adopt micro-irrigation systems (drip/sprinkler) to reduce dependence on rainfall.', 'Implement drought-resistant crop varieties and PMFBY insurance.', 'Promote heat-tolerant crop varieties and shading practices.', 'Invest in flood-resistant infrastructure and drainage systems.']\n",
      "MP Recommendations: ['Implement drought-resistant crop varieties and PMFBY insurance.', 'Promote heat-tolerant crop varieties and shading practices.', 'Invest in flood-resistant infrastructure and drainage systems.']\n"
     ]
    }
   ],
   "source": [
    "def climate_resilience_indicators(precip_df, temp_df):\n",
    "    # Rainfall Variability Index\n",
    "    precip_df['year'] = precip_df['date'].dt.year\n",
    "    annual_rain = precip_df.groupby('year')['rainfall_mm'].sum()\n",
    "    rvi = float(annual_rain.std() / annual_rain.mean())\n",
    "    \n",
    "    # Drought frequency\n",
    "    drought_years = int((annual_rain < 0.8 * annual_rain.mean()).sum())\n",
    "    \n",
    "    # Extreme rainfall events\n",
    "    extreme_events = int((precip_df['rainfall_mm'] > 100).sum())\n",
    "    \n",
    "    # Heat stress days\n",
    "    heat_stress_days = int((temp_df['max'] > 35).sum())\n",
    "    \n",
    "    return {\n",
    "        'Rainfall Variability Index': round(rvi, 3),  # Rounded to 3 decimals\n",
    "        'Drought Frequency (Years)': drought_years,\n",
    "        'Extreme Rainfall Events': extreme_events,\n",
    "        'Heat Stress Days': heat_stress_days\n",
    "    }\n",
    "\n",
    "mh_indicators = climate_resilience_indicators(mh_precip, mh_temp)\n",
    "mp_indicators = climate_resilience_indicators(mp_precip, mp_temp)\n",
    "\n",
    "print(\"Maharashtra Indicators:\", mh_indicators)\n",
    "print(\"Madhya Pradesh Indicators:\", mp_indicators)\n",
    "def generate_recommendations(indicators):\n",
    "    recs = []\n",
    "    if indicators['Rainfall Variability Index'] > 0.5:\n",
    "        recs.append(\"Adopt micro-irrigation systems (drip/sprinkler) to reduce dependence on rainfall.\")\n",
    "    if indicators['Drought Frequency (Years)'] > 2:\n",
    "        recs.append(\"Implement drought-resistant crop varieties and PMFBY insurance.\")\n",
    "    if indicators['Heat Stress Days'] > 20:\n",
    "        recs.append(\"Promote heat-tolerant crop varieties and shading practices.\")\n",
    "    if indicators['Extreme Rainfall Events'] > 5:\n",
    "        recs.append(\"Invest in flood-resistant infrastructure and drainage systems.\")\n",
    "    return recs\n",
    "\n",
    "print(\"MH Recommendations:\", generate_recommendations(mh_indicators))\n",
    "print(\"MP Recommendations:\", generate_recommendations(mp_indicators))"
   ]
  },
  {
   "cell_type": "code",
   "execution_count": null,
   "id": "493d15ee",
   "metadata": {},
   "outputs": [],
   "source": []
  }
 ],
 "metadata": {
  "kernelspec": {
   "display_name": "SatSure-caseStudy",
   "language": "python",
   "name": "python3"
  },
  "language_info": {
   "codemirror_mode": {
    "name": "ipython",
    "version": 3
   },
   "file_extension": ".py",
   "mimetype": "text/x-python",
   "name": "python",
   "nbconvert_exporter": "python",
   "pygments_lexer": "ipython3",
   "version": "3.11.0"
  }
 },
 "nbformat": 4,
 "nbformat_minor": 5
}
